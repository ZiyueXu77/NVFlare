{
 "cells": [
  {
   "cell_type": "markdown",
   "id": "32460217",
   "metadata": {},
   "source": [
    "# Scikit-Learn SVM with NVFLARE\n"
   ]
  },
  {
   "cell_type": "markdown",
   "id": "484dc228",
   "metadata": {},
   "source": [
    "## Prepare data"
   ]
  },
  {
   "cell_type": "markdown",
   "id": "4778adc0",
   "metadata": {},
   "source": [
    "In this section, we will download the data and split the data and save to the local disk"
   ]
  },
  {
   "cell_type": "markdown",
   "id": "e03e1229",
   "metadata": {},
   "source": [
    "### Download data"
   ]
  },
  {
   "cell_type": "code",
   "execution_count": 1,
   "id": "88ede61e",
   "metadata": {},
   "outputs": [],
   "source": [
    "from utils.prepare_data import download_data"
   ]
  },
  {
   "cell_type": "markdown",
   "id": "ec5fc328",
   "metadata": {},
   "source": [
    "The download data function will download one of the two datasets from Scikit-learn: Iris or Cancer\n",
    "* the file will be save to the output directory \n",
    "* the file format will be CSV format with comma separated\n",
    "* the file will be remove the header \n",
    "* default dataset is iris\n",
    "* filename = dataset name\n"
   ]
  },
  {
   "cell_type": "code",
   "execution_count": 2,
   "id": "f6e95bea",
   "metadata": {},
   "outputs": [],
   "source": [
    "output_dir=\"/tmp/nvflare/sklearn/data\"\n",
    "download_data(output_dir)"
   ]
  },
  {
   "cell_type": "markdown",
   "id": "da2b4371",
   "metadata": {},
   "source": [
    "Verify the file is downloaded\n"
   ]
  },
  {
   "cell_type": "code",
   "execution_count": 3,
   "id": "b116cdbd",
   "metadata": {},
   "outputs": [
    {
     "name": "stdout",
     "output_type": "stream",
     "text": [
      "iris.csv\r\n"
     ]
    }
   ],
   "source": [
    "!ls {output_dir}"
   ]
  },
  {
   "cell_type": "markdown",
   "id": "e707faf5",
   "metadata": {},
   "source": [
    "#### Split Data\n",
    "* **Split Method**"
   ]
  },
  {
   "cell_type": "markdown",
   "id": "b4d1439e",
   "metadata": {},
   "source": [
    "\n",
    "Split the data into different datasets, one for each client. \n",
    "There are several split methods, we use test our algorithms in different scenarios. Here we just pick uniform split from the followns\n",
    "* Uniform \n",
    "* linear\n",
    "* Sqare\n",
    "* Exponential\n",
    "\n"
   ]
  },
  {
   "cell_type": "markdown",
   "id": "b3179444",
   "metadata": {},
   "source": [
    "* **data store method**"
   ]
  },
  {
   "cell_type": "markdown",
   "id": "c11134e2",
   "metadata": {},
   "source": [
    "There are two approaches to store the splited data \n",
    "* STORE DATA: \n",
    "\n",
    "similar to the real application, we split the data total into different directories (sites), and each client will ready one-site's data\n",
    "\n",
    "* STORE_INDEX: \n",
    "\n",
    "simulate the split, by assign data index range for each site, but the original file is not splited. The data loader is reading from the original file but only for the data within the index range\n",
    "  For example: the index assignment for the data split is captured in a json file\n",
    " ``` \n",
    "  {\n",
    "     \"data_path\" : \"/tmp/nvflare/sklearn/data/iris.csv\"\n",
    "     \"data_index\" : {\n",
    "         \"site-1\": {\"start\": 100, \"end\": 300},\n",
    "         \"site-2\": {\"start\": 301, \"end\": 600},\n",
    "     }\n",
    "  }\n",
    " ```"
   ]
  },
  {
   "cell_type": "markdown",
   "id": "15fa6c7b",
   "metadata": {},
   "source": [
    "Here we choose STORE_DATA approach"
   ]
  },
  {
   "cell_type": "code",
   "execution_count": 2,
   "id": "b9411999",
   "metadata": {},
   "outputs": [],
   "source": [
    "from utils.prepare_data_split import split_data, SplitMethod, StoreMethod"
   ]
  },
  {
   "cell_type": "code",
   "execution_count": 3,
   "id": "8aad0909",
   "metadata": {},
   "outputs": [],
   "source": [
    "input_path = \"/tmp/nvflare/sklearn/data/iris.csv\"\n",
    "output_dir = \"/tmp/nvflare/sklearn/data\"\n",
    "site_num = 2\n",
    "valid_frac = 0.3\n",
    "split_method: SplitMethod = SplitMethod.UNIFORM\n",
    "store_method: StoreMethod = StoreMethod.STORE_DATA"
   ]
  },
  {
   "cell_type": "code",
   "execution_count": 4,
   "id": "7a3b7386",
   "metadata": {},
   "outputs": [
    {
     "name": "stdout",
     "output_type": "stream",
     "text": [
      "{'valid': {'start': 0, 'end': 45}, 'site-1': {'start': 45, 'end': 97}, 'site-2': {'start': 97, 'end': 150}}\n"
     ]
    }
   ],
   "source": [
    "\n",
    "split_data(input_path, output_dir, site_num, valid_frac, split_method=split_method, store_method=store_method)"
   ]
  },
  {
   "cell_type": "code",
   "execution_count": 5,
   "id": "073c1180",
   "metadata": {},
   "outputs": [
    {
     "name": "stdout",
     "output_type": "stream",
     "text": [
      "total 32\r\n",
      "-rw-r--r--  1 chesterc  wheel  1040 Dec 16 09:36 data_site-1.csv\r\n",
      "-rw-r--r--  1 chesterc  wheel  1060 Dec 16 09:36 data_site-2.csv\r\n",
      "-rw-r--r--  1 chesterc  wheel     0 Dec 16 09:26 data_site-3.csv\r\n",
      "-rw-r--r--  1 chesterc  wheel   900 Dec 16 09:36 data_valid.csv\r\n",
      "-rw-r--r--  1 chesterc  wheel  3000 Dec 16 09:19 iris.csv\r\n"
     ]
    }
   ],
   "source": [
    "!ls -l {output_dir}"
   ]
  },
  {
   "cell_type": "code",
   "execution_count": 7,
   "id": "4f9b69d7",
   "metadata": {},
   "outputs": [
    {
     "name": "stdout",
     "output_type": "stream",
     "text": [
      "0.0,4.8,3.0,1.4,0.3\r\n",
      "0.0,5.1,3.8,1.6,0.2\r\n",
      "0.0,4.6,3.2,1.4,0.2\r\n",
      "0.0,5.3,3.7,1.5,0.2\r\n",
      "0.0,5.0,3.3,1.4,0.2\r\n",
      "1.0,7.0,3.2,4.7,1.4\r\n",
      "1.0,6.4,3.2,4.5,1.5\r\n",
      "1.0,6.9,3.1,4.9,1.5\r\n",
      "1.0,5.5,2.3,4.0,1.3\r\n",
      "1.0,6.5,2.8,4.6,1.5\r\n"
     ]
    }
   ],
   "source": [
    "! head -n 10 {output_dir}/data_site-1.csv"
   ]
  },
  {
   "cell_type": "code",
   "execution_count": null,
   "id": "3843255b",
   "metadata": {},
   "outputs": [],
   "source": []
  }
 ],
 "metadata": {
  "kernelspec": {
   "display_name": "Python 3 (ipykernel)",
   "language": "python",
   "name": "python3"
  },
  "language_info": {
   "codemirror_mode": {
    "name": "ipython",
    "version": 3
   },
   "file_extension": ".py",
   "mimetype": "text/x-python",
   "name": "python",
   "nbconvert_exporter": "python",
   "pygments_lexer": "ipython3",
   "version": "3.8.10"
  }
 },
 "nbformat": 4,
 "nbformat_minor": 5
}
