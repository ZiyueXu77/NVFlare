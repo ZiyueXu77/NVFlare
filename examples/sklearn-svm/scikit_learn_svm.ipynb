{
 "cells": [
  {
   "cell_type": "markdown",
   "id": "32460217",
   "metadata": {},
   "source": [
    "# Scikit-Learn SVM with NVFLARE\n"
   ]
  },
  {
   "cell_type": "markdown",
   "id": "484dc228",
   "metadata": {},
   "source": [
    "## Prepare data"
   ]
  },
  {
   "cell_type": "markdown",
   "id": "4778adc0",
   "metadata": {},
   "source": [
    "In this section, we will download the data and split the data and save to the local disk"
   ]
  },
  {
   "cell_type": "markdown",
   "id": "e03e1229",
   "metadata": {},
   "source": [
    "### Download data"
   ]
  },
  {
   "cell_type": "code",
   "execution_count": 1,
   "id": "88ede61e",
   "metadata": {},
   "outputs": [],
   "source": [
    "from utils.prepare_data import download_data"
   ]
  },
  {
   "cell_type": "markdown",
   "id": "ec5fc328",
   "metadata": {},
   "source": [
    "The download data function will download one of the two datasets from Scikit-learn: Iris or Cancer\n",
    "* the file will be save to the output directory \n",
    "* the file format will be CSV format with comma separated\n",
    "* the file will be remove the header \n",
    "* default dataset is iris\n",
    "* filename = dataset name\n"
   ]
  },
  {
   "cell_type": "code",
   "execution_count": 2,
   "id": "f6e95bea",
   "metadata": {},
   "outputs": [],
   "source": [
    "output_dir=\"/tmp/nvflare/sklearn/data\"\n",
    "download_data(output_dir)"
   ]
  },
  {
   "cell_type": "markdown",
   "id": "da2b4371",
   "metadata": {},
   "source": [
    "Verify the file is downloaded\n"
   ]
  },
  {
   "cell_type": "code",
   "execution_count": 3,
   "id": "b116cdbd",
   "metadata": {},
   "outputs": [
    {
     "name": "stdout",
     "output_type": "stream",
     "text": [
      "data_split.json  iris.csv  site-1  site-2  valid\r\n"
     ]
    }
   ],
   "source": [
    "!ls {output_dir}"
   ]
  },
  {
   "cell_type": "markdown",
   "id": "e707faf5",
   "metadata": {},
   "source": [
    "### Split Data\n",
    "* **Split Method**"
   ]
  },
  {
   "cell_type": "markdown",
   "id": "b4d1439e",
   "metadata": {},
   "source": [
    "\n",
    "Split the data into different datasets, one for each client. \n",
    "There are several split methods, we use test our algorithms in different scenarios. Here we just pick uniform split from the followns\n",
    "* Uniform \n",
    "* linear\n",
    "* Sqare\n",
    "* Exponential\n",
    "\n"
   ]
  },
  {
   "cell_type": "markdown",
   "id": "b3179444",
   "metadata": {},
   "source": [
    "* **data store method**"
   ]
  },
  {
   "cell_type": "markdown",
   "id": "c11134e2",
   "metadata": {},
   "source": [
    "There are two approaches to store the splited data \n",
    "* STORE DATA: \n",
    "\n",
    "similar to the real application, we split the data total into different directories (sites), and each client will ready one-site's data\n",
    "\n",
    "```\n",
    "   /tmp/nvflare/sklearn/data/site-1/iris.csv\n",
    "   /tmp/nvflare/sklearn/data/site-2/iris.csv\n",
    "   /tmp/nvflare/sklearn/data/valid/iris.csv\n",
    "```\n",
    "\n",
    "* STORE_INDEX: \n",
    "\n",
    "simulate the split, by assign data index range for each site, but the original file is not splited. The data loader is reading from the original file but only for the data within the index range\n",
    "  For example: the index assignment for the data split is captured in a json file\n",
    " ``` \n",
    "  {\n",
    "     \"data_path\" : \"/tmp/nvflare/sklearn/data/iris.csv\"\n",
    "     \"data_index\" : {\n",
    "         \"site-1\": {\"start\": 100, \"end\": 300},\n",
    "         \"site-2\": {\"start\": 301, \"end\": 600},\n",
    "     }\n",
    "  }\n",
    " ```"
   ]
  },
  {
   "cell_type": "markdown",
   "id": "15fa6c7b",
   "metadata": {},
   "source": [
    "Here we choose STORE_DATA approach"
   ]
  },
  {
   "cell_type": "code",
   "execution_count": 4,
   "id": "b9411999",
   "metadata": {},
   "outputs": [],
   "source": [
    "from utils.prepare_data_split import split_data, SplitMethod, StoreMethod"
   ]
  },
  {
   "cell_type": "code",
   "execution_count": 5,
   "id": "8aad0909",
   "metadata": {},
   "outputs": [],
   "source": [
    "input_path = \"/tmp/nvflare/sklearn/data/iris.csv\"\n",
    "output_dir = \"/tmp/nvflare/sklearn/data\"\n",
    "site_num = 2\n",
    "valid_frac = 0.3\n",
    "split_method: SplitMethod = SplitMethod.UNIFORM\n",
    "store_method = StoreMethod.STORE_DATA"
   ]
  },
  {
   "cell_type": "code",
   "execution_count": 6,
   "id": "7a3b7386",
   "metadata": {},
   "outputs": [],
   "source": [
    "\n",
    "split_data(input_path, output_dir, site_num, valid_frac, split_method=split_method)"
   ]
  },
  {
   "cell_type": "code",
   "execution_count": 7,
   "id": "073c1180",
   "metadata": {},
   "outputs": [
    {
     "name": "stdout",
     "output_type": "stream",
     "text": [
      "total 20\r\n",
      "-rw-rw-r-- 1 chester chester  316 Dec 17 10:52 data_split.json\r\n",
      "-rw-rw-r-- 1 chester chester 3000 Dec 17 11:02 iris.csv\r\n",
      "drwxrwxr-x 2 chester chester 4096 Dec 17 10:55 site-1\r\n",
      "drwxrwxr-x 2 chester chester 4096 Dec 17 10:55 site-2\r\n",
      "drwxrwxr-x 2 chester chester 4096 Dec 17 10:55 valid\r\n"
     ]
    }
   ],
   "source": [
    "!ls -l {output_dir}"
   ]
  },
  {
   "cell_type": "code",
   "execution_count": 8,
   "id": "4f9b69d7",
   "metadata": {},
   "outputs": [
    {
     "name": "stdout",
     "output_type": "stream",
     "text": [
      "0.0,4.8,3.0,1.4,0.3\r\n",
      "0.0,5.1,3.8,1.6,0.2\r\n",
      "0.0,4.6,3.2,1.4,0.2\r\n",
      "0.0,5.3,3.7,1.5,0.2\r\n",
      "0.0,5.0,3.3,1.4,0.2\r\n",
      "1.0,7.0,3.2,4.7,1.4\r\n",
      "1.0,6.4,3.2,4.5,1.5\r\n",
      "1.0,6.9,3.1,4.9,1.5\r\n",
      "1.0,5.5,2.3,4.0,1.3\r\n",
      "1.0,6.5,2.8,4.6,1.5\r\n"
     ]
    }
   ],
   "source": [
    "! head -n 10 {output_dir}/site-1/iris.csv"
   ]
  },
  {
   "cell_type": "markdown",
   "id": "c6ef5742",
   "metadata": {},
   "source": [
    "## Config Jobs"
   ]
  },
  {
   "cell_type": "markdown",
   "id": "be15a238",
   "metadata": {},
   "source": [
    "ToDo "
   ]
  },
  {
   "cell_type": "markdown",
   "id": "ef4d982e",
   "metadata": {},
   "source": [
    "## Running Job"
   ]
  },
  {
   "cell_type": "markdown",
   "id": "9273451e",
   "metadata": {},
   "source": [
    "### FL Simulator"
   ]
  },
  {
   "cell_type": "code",
   "execution_count": 10,
   "id": "3a2c0da7",
   "metadata": {
    "scrolled": true
   },
   "outputs": [
    {
     "name": "stdout",
     "output_type": "stream",
     "text": [
      "2022-12-17 11:03:36,518 - SimulatorRunner - INFO - Create the Simulator Server.\n",
      "2022-12-17 11:03:36,565 - nvflare.fuel.hci.server.hci - INFO - Starting Admin Server localhost on Port 34991\n",
      "2022-12-17 11:03:36,567 - SimulatorServer - INFO - starting insecure server at localhost:33347\n",
      "2022-12-17 11:03:36,569 - SimulatorRunner - INFO - Deploy the Apps.\n",
      "2022-12-17 11:03:36,571 - SimulatorRunner - INFO - Create the simulate clients.\n",
      "2022-12-17 11:03:36,582 - ClientManager - INFO - Client: New client site-1@127.0.0.1 joined. Sent token: 70caa178-b98f-412e-897b-5e32eca3db41.  Total clients: 1\n",
      "2022-12-17 11:03:36,583 - FederatedClient - INFO - Successfully registered client:site-1 for project simulator_server. Token:70caa178-b98f-412e-897b-5e32eca3db41 SSID:\n",
      "2022-12-17 11:03:36,592 - ClientManager - INFO - Client: New client site-2@127.0.0.1 joined. Sent token: ea76b488-ab58-43f7-97b7-a6ee9405d38a.  Total clients: 2\n",
      "2022-12-17 11:03:36,592 - FederatedClient - INFO - Successfully registered client:site-2 for project simulator_server. Token:ea76b488-ab58-43f7-97b7-a6ee9405d38a SSID:\n",
      "2022-12-17 11:03:36,593 - SimulatorRunner - INFO - Set the client status ready.\n",
      "2022-12-17 11:03:36,593 - SimulatorRunner - INFO - Deploy and start the Server App.\n",
      "2022-12-17 11:03:37,395 - ServerRunner - INFO - [identity=simulator_server, run=simulate_job]: Server runner starting ...\n",
      "2022-12-17 11:03:37,395 - ServerRunner - INFO - [identity=simulator_server, run=simulate_job]: starting workflow scatter_and_gather (<class 'nvflare.app_common.workflows.scatter_and_gather.ScatterAndGather'>) ...\n",
      "2022-12-17 11:03:37,395 - ScatterAndGather - INFO - [identity=simulator_server, run=simulate_job]: Initializing ScatterAndGather workflow.\n",
      "2022-12-17 11:03:37,395 - JoblibModelParamPersistor - INFO - Initializing server model as None\n",
      "2022-12-17 11:03:37,395 - ServerRunner - ERROR - [identity=simulator_server, run=simulate_job]: Aborting current RUN due to FATAL_SYSTEM_ERROR received: Expected global weights to be of type `ModelLearnable` but received <class 'type'>\n",
      "2022-12-17 11:03:37,395 - ServerRunner - INFO - [identity=simulator_server, run=simulate_job]: asked to abort - triggered abort_signal to stop the RUN\n",
      "2022-12-17 11:03:37,395 - ServerRunner - INFO - [identity=simulator_server, run=simulate_job]: Workflow scatter_and_gather (<class 'nvflare.app_common.workflows.scatter_and_gather.ScatterAndGather'>) started\n",
      "2022-12-17 11:03:37,396 - ScatterAndGather - INFO - [identity=simulator_server, run=simulate_job, wf=scatter_and_gather]: Beginning ScatterAndGather training phase.\n",
      "2022-12-17 11:03:37,396 - ScatterAndGather - INFO - [identity=simulator_server, run=simulate_job, wf=scatter_and_gather]: Abort signal received. Exiting at round 0.\n",
      "2022-12-17 11:03:37,396 - ServerRunner - INFO - [identity=simulator_server, run=simulate_job, wf=scatter_and_gather]: Workflow: scatter_and_gather finalizing ...\n",
      "2022-12-17 11:03:37,595 - SimulatorClientRunner - INFO - Start the clients run simulation.\n",
      "2022-12-17 11:03:38,596 - SimulatorClientRunner - INFO - Simulate Run client: site-1\n",
      "2022-12-17 11:03:38,596 - SimulatorClientRunner - INFO - Simulate Run client: site-2\n",
      "E1217 11:03:38.597517913   11871 fork_posix.cc:76]           Other threads are currently calling into gRPC, skipping fork() handlers\n",
      "E1217 11:03:38.600211026   11872 fork_posix.cc:76]           Other threads are currently calling into gRPC, skipping fork() handlers\n",
      "2022-12-17 11:03:39,898 - ServerRunner - INFO - [identity=simulator_server, run=simulate_job, wf=scatter_and_gather]: ABOUT_TO_END_RUN fired\n",
      "2022-12-17 11:03:39,899 - ServerRunner - INFO - [identity=simulator_server, run=simulate_job, wf=scatter_and_gather]: END_RUN fired\n",
      "2022-12-17 11:03:39,901 - ServerRunner - INFO - [identity=simulator_server, run=simulate_job, wf=scatter_and_gather]: Server runner finished.\n",
      "2022-12-17 11:03:40,396 - SimulatorServer - INFO - Server app stopped.\n",
      "\n",
      "\n",
      "Traceback (most recent call last):\n",
      "  File \"/home/chester/projects/NVFlare/nvflare/fuel/utils/json_scanner.py\", line 96, in _do_scan\n",
      "    node.processor.process_element(node)\n",
      "  File \"/home/chester/projects/NVFlare/nvflare/private/json_configer.py\", line 122, in process_element\n",
      "    self.process_config_element(self.config_ctx, node)\n",
      "  File \"/home/chester/projects/NVFlare/nvflare/private/fed/client/client_json_config.py\", line 83, in process_config_element\n",
      "    self.current_exe.executor = self.build_component(element)\n",
      "  File \"/home/chester/projects/NVFlare/nvflare/private/fed/client/client_json_config.py\", line 87, in build_component\n",
      "    t = super().build_component(config_dict)\n",
      "  File \"/home/chester/projects/NVFlare/nvflare/fuel/utils/component_builder.py\", line 57, in build_component\n",
      "    return instantiate_class(class_path, class_args)\n",
      "  File \"/home/chester/projects/NVFlare/nvflare/fuel/utils/class_utils.py\", line 48, in instantiate_class\n",
      "    c = get_class(class_path)\n",
      "  File \"/home/chester/projects/NVFlare/nvflare/fuel/utils/class_utils.py\", line 27, in get_class\n",
      "    module_ = importlib.import_module(module_name)\n",
      "  File \"/usr/lib/python3.8/importlib/__init__.py\", line 127, in import_module\n",
      "    return _bootstrap._gcd_import(name[level:], package, level)\n",
      "  File \"<frozen importlib._bootstrap>\", line 1014, in _gcd_import\n",
      "  File \"<frozen importlib._bootstrap>\", line 991, in _find_and_load\n",
      "  File \"<frozen importlib._bootstrap>\", line 975, in _find_and_load_unlocked\n",
      "  File \"<frozen importlib._bootstrap>\", line 671, in _load_unlocked\n",
      "  File \"<frozen importlib._bootstrap_external>\", line 843, in exec_module\n",
      "  File \"<frozen importlib._bootstrap>\", line 219, in _call_with_frames_removed\n",
      "  File \"/home/chester/projects/NVFlare/nvflare/app_opt/sklearn/svm/svm_executor.py\", line 29, in <module>\n",
      "    from svm_learner import SVMLearner\n",
      "  File \"/tmp/nvflare/simulate_job/app_site-2/custom/svm_learner.py\", line 22, in <module>\n",
      "    from nvflare.app_opt.sklearn.scikit_learner import SKLearner\n",
      "ModuleNotFoundError: No module named 'nvflare.app_opt.sklearn.scikit_learner'\n",
      "\n",
      "During handling of the above exception, another exception occurred:\n",
      "\n",
      "Traceback (most recent call last):\n",
      "  File \"/home/chester/projects/NVFlare/nvflare/private/json_configer.py\", line 114, in configure\n",
      "    self._do_configure()\n",
      "  File \"/home/chester/projects/NVFlare/nvflare/private/json_configer.py\", line 107, in _do_configure\n",
      "    self.json_scanner.scan(self)\n",
      "  File \"/home/chester/projects/NVFlare/nvflare/fuel/utils/json_scanner.py\", line 148, in scan\n",
      "    self._do_scan(node)\n",
      "  File \"/home/chester/projects/NVFlare/nvflare/fuel/utils/json_scanner.py\", line 121, in _do_scan\n",
      "    self._do_scan(_child_node(node, k, 0, v))\n",
      "  File \"/home/chester/projects/NVFlare/nvflare/fuel/utils/json_scanner.py\", line 124, in _do_scan\n",
      "    self._do_scan(_child_node(node, node.key, i + 1, element[i]))\n",
      "  File \"/home/chester/projects/NVFlare/nvflare/fuel/utils/json_scanner.py\", line 121, in _do_scan\n",
      "    self._do_scan(_child_node(node, k, 0, v))\n",
      "  File \"/home/chester/projects/NVFlare/nvflare/fuel/utils/json_scanner.py\", line 103, in _do_scan\n",
      "    raise ConfigError(\n",
      "nvflare.fuel.common.excepts.ConfigError: Error processing ['/tmp/nvflare/simulate_job/app_site-2/config/config_fed_client.json'] in JSON element {'id': 'Executor', 'path': 'nvflare.app_opt.sklearn.svm.svm_executor.SVMExecutor', 'args': {'learner_id': 'svm_learner', 'local_model_output_path': '/tmp/nvflare/sklearn/model/model.joblib'}}: path: executors.#1.executor, exception: No module named 'nvflare.app_opt.sklearn.scikit_learner'\n",
      "\n",
      "During handling of the above exception, another exception occurred:\n",
      "\n",
      "Traceback (most recent call last):\n",
      "  File \"/home/chester/projects/NVFlare/nvflare/private/fed/app/simulator/simulator_worker.py\", line 125, in run\n",
      "    interval, stop_run = self.do_one_task(client)\n",
      "  File \"/home/chester/projects/NVFlare/nvflare/private/fed/app/simulator/simulator_worker.py\", line 84, in do_one_task\n",
      "    self.create_client_runner(client)\n",
      "  File \"/home/chester/projects/NVFlare/nvflare/private/fed/app/simulator/simulator_worker.py\", line 77, in create_client_runner\n",
      "    client_runner = client_app_runner.create_client_runner(app_client_root, args, args.config_folder, client, False)\n",
      "  File \"/home/chester/projects/NVFlare/nvflare/private/fed/client/client_app_runner.py\", line 44, in create_client_runner\n",
      "    conf.configure()\n",
      "  File \"/home/chester/projects/NVFlare/nvflare/private/json_configer.py\", line 116, in configure\n",
      "    raise ConfigError(\"Config error in {}: {}\".format(self.config_file_name, secure_format_exception(e)))\n",
      "nvflare.fuel.common.excepts.ConfigError: Config error in ['/tmp/nvflare/simulate_job/app_site-2/config/config_fed_client.json']: Error processing ['/tmp/nvflare/simulate_job/app_site-2/config/config_fed_client.json'] in JSON element {'id': 'Executor', 'path': 'nvflare.app_opt.sklearn.svm.svm_executor.SVMExecutor', 'args': {'learner_id': 'svm_learner', 'local_model_output_path': '/tmp/nvflare/sklearn/model/model.joblib'}}: path: executors.#1.executor, exception: No module named 'nvflare.app_opt.sklearn.scikit_learner'\n",
      "\n",
      "2022-12-17 11:03:40,442 - ClientTaskWorker - ERROR - ClientTaskWorker run error: Config error in ['/tmp/nvflare/simulate_job/app_site-2/config/config_fed_client.json']: Error processing ['/tmp/nvflare/simulate_job/app_site-2/config/config_fed_client.json'] in JSON element {'id': 'Executor', 'path': 'nvflare.app_opt.sklearn.svm.svm_executor.SVMExecutor', 'args': {'learner_id': 'svm_learner', 'local_model_output_path': '/tmp/nvflare/sklearn/model/model.joblib'}}: path: executors.#1.executor, exception: No module named 'nvflare.app_opt.sklearn.scikit_learner'\n"
     ]
    },
    {
     "name": "stdout",
     "output_type": "stream",
     "text": [
      "Traceback (most recent call last):\n",
      "  File \"/home/chester/projects/NVFlare/nvflare/fuel/utils/json_scanner.py\", line 96, in _do_scan\n",
      "    node.processor.process_element(node)\n",
      "  File \"/home/chester/projects/NVFlare/nvflare/private/json_configer.py\", line 122, in process_element\n",
      "    self.process_config_element(self.config_ctx, node)\n",
      "  File \"/home/chester/projects/NVFlare/nvflare/private/fed/client/client_json_config.py\", line 83, in process_config_element\n",
      "    self.current_exe.executor = self.build_component(element)\n",
      "  File \"/home/chester/projects/NVFlare/nvflare/private/fed/client/client_json_config.py\", line 87, in build_component\n",
      "    t = super().build_component(config_dict)\n",
      "  File \"/home/chester/projects/NVFlare/nvflare/fuel/utils/component_builder.py\", line 57, in build_component\n",
      "    return instantiate_class(class_path, class_args)\n",
      "  File \"/home/chester/projects/NVFlare/nvflare/fuel/utils/class_utils.py\", line 48, in instantiate_class\n",
      "    c = get_class(class_path)\n",
      "  File \"/home/chester/projects/NVFlare/nvflare/fuel/utils/class_utils.py\", line 27, in get_class\n",
      "    module_ = importlib.import_module(module_name)\n",
      "  File \"/usr/lib/python3.8/importlib/__init__.py\", line 127, in import_module\n",
      "    return _bootstrap._gcd_import(name[level:], package, level)\n",
      "  File \"<frozen importlib._bootstrap>\", line 1014, in _gcd_import\n",
      "  File \"<frozen importlib._bootstrap>\", line 991, in _find_and_load\n",
      "  File \"<frozen importlib._bootstrap>\", line 975, in _find_and_load_unlocked\n",
      "  File \"<frozen importlib._bootstrap>\", line 671, in _load_unlocked\n",
      "  File \"<frozen importlib._bootstrap_external>\", line 843, in exec_module\n",
      "  File \"<frozen importlib._bootstrap>\", line 219, in _call_with_frames_removed\n",
      "  File \"/home/chester/projects/NVFlare/nvflare/app_opt/sklearn/svm/svm_executor.py\", line 29, in <module>\n",
      "    from svm_learner import SVMLearner\n",
      "  File \"/tmp/nvflare/simulate_job/app_site-1/custom/svm_learner.py\", line 22, in <module>\n",
      "    from nvflare.app_opt.sklearn.scikit_learner import SKLearner\n",
      "ModuleNotFoundError: No module named 'nvflare.app_opt.sklearn.scikit_learner'\n",
      "\n",
      "During handling of the above exception, another exception occurred:\n",
      "\n",
      "Traceback (most recent call last):\n",
      "  File \"/home/chester/projects/NVFlare/nvflare/private/json_configer.py\", line 114, in configure\n",
      "    self._do_configure()\n",
      "  File \"/home/chester/projects/NVFlare/nvflare/private/json_configer.py\", line 107, in _do_configure\n",
      "    self.json_scanner.scan(self)\n",
      "  File \"/home/chester/projects/NVFlare/nvflare/fuel/utils/json_scanner.py\", line 148, in scan\n",
      "    self._do_scan(node)\n",
      "  File \"/home/chester/projects/NVFlare/nvflare/fuel/utils/json_scanner.py\", line 121, in _do_scan\n",
      "    self._do_scan(_child_node(node, k, 0, v))\n",
      "  File \"/home/chester/projects/NVFlare/nvflare/fuel/utils/json_scanner.py\", line 124, in _do_scan\n",
      "    self._do_scan(_child_node(node, node.key, i + 1, element[i]))\n",
      "  File \"/home/chester/projects/NVFlare/nvflare/fuel/utils/json_scanner.py\", line 121, in _do_scan\n",
      "    self._do_scan(_child_node(node, k, 0, v))\n",
      "  File \"/home/chester/projects/NVFlare/nvflare/fuel/utils/json_scanner.py\", line 103, in _do_scan\n",
      "    raise ConfigError(\n",
      "nvflare.fuel.common.excepts.ConfigError: Error processing ['/tmp/nvflare/simulate_job/app_site-1/config/config_fed_client.json'] in JSON element {'id': 'Executor', 'path': 'nvflare.app_opt.sklearn.svm.svm_executor.SVMExecutor', 'args': {'learner_id': 'svm_learner', 'local_model_output_path': '/tmp/nvflare/sklearn/model/model.joblib'}}: path: executors.#1.executor, exception: No module named 'nvflare.app_opt.sklearn.scikit_learner'\n",
      "\n",
      "During handling of the above exception, another exception occurred:\n",
      "\n",
      "Traceback (most recent call last):\n",
      "  File \"/home/chester/projects/NVFlare/nvflare/private/fed/app/simulator/simulator_worker.py\", line 125, in run\n",
      "    interval, stop_run = self.do_one_task(client)\n",
      "  File \"/home/chester/projects/NVFlare/nvflare/private/fed/app/simulator/simulator_worker.py\", line 84, in do_one_task\n",
      "    self.create_client_runner(client)\n",
      "  File \"/home/chester/projects/NVFlare/nvflare/private/fed/app/simulator/simulator_worker.py\", line 77, in create_client_runner\n",
      "    client_runner = client_app_runner.create_client_runner(app_client_root, args, args.config_folder, client, False)\n",
      "  File \"/home/chester/projects/NVFlare/nvflare/private/fed/client/client_app_runner.py\", line 44, in create_client_runner\n",
      "    conf.configure()\n",
      "  File \"/home/chester/projects/NVFlare/nvflare/private/json_configer.py\", line 116, in configure\n",
      "    raise ConfigError(\"Config error in {}: {}\".format(self.config_file_name, secure_format_exception(e)))\n",
      "nvflare.fuel.common.excepts.ConfigError: Config error in ['/tmp/nvflare/simulate_job/app_site-1/config/config_fed_client.json']: Error processing ['/tmp/nvflare/simulate_job/app_site-1/config/config_fed_client.json'] in JSON element {'id': 'Executor', 'path': 'nvflare.app_opt.sklearn.svm.svm_executor.SVMExecutor', 'args': {'learner_id': 'svm_learner', 'local_model_output_path': '/tmp/nvflare/sklearn/model/model.joblib'}}: path: executors.#1.executor, exception: No module named 'nvflare.app_opt.sklearn.scikit_learner'\n",
      "\n",
      "2022-12-17 11:03:40,477 - ClientTaskWorker - ERROR - ClientTaskWorker run error: Config error in ['/tmp/nvflare/simulate_job/app_site-1/config/config_fed_client.json']: Error processing ['/tmp/nvflare/simulate_job/app_site-1/config/config_fed_client.json'] in JSON element {'id': 'Executor', 'path': 'nvflare.app_opt.sklearn.svm.svm_executor.SVMExecutor', 'args': {'learner_id': 'svm_learner', 'local_model_output_path': '/tmp/nvflare/sklearn/model/model.joblib'}}: path: executors.#1.executor, exception: No module named 'nvflare.app_opt.sklearn.scikit_learner'\n",
      "2022-12-17 11:03:40,672 - SimulatorClientRunner - ERROR - run_client_thread error: \n",
      "2022-12-17 11:03:40,673 - SimulatorClientRunner - ERROR - run_client_thread error: \n",
      "2022-12-17 11:03:40,673 - FederatedClient - INFO - Shutting down client: site-1\n",
      "2022-12-17 11:03:40,673 - FederatedClient - INFO - Shutting down client: site-2\n",
      "2022-12-17 11:03:40,674 - SimulatorServer - INFO - shutting down server\n",
      "2022-12-17 11:03:40,674 - SimulatorServer - INFO - canceling sync locks\n",
      "2022-12-17 11:03:40,674 - SimulatorServer - INFO - server off\n"
     ]
    }
   ],
   "source": [
    "! nvflare simulator -w /tmp/nvflare/ -n 2 -t 2 job_configs/sklearn_svm_base"
   ]
  },
  {
   "cell_type": "code",
   "execution_count": 10,
   "id": "b3a62004",
   "metadata": {},
   "outputs": [
    {
     "name": "stdout",
     "output_type": "stream",
     "text": [
      "total 16\r\n",
      "-rw-rw-r-- 1 chester chester    0 Dec 16 21:55 audit.log\r\n",
      "drwxrwxr-x 2 chester chester 4096 Dec 16 21:55 config\r\n",
      "drwxrwxr-x 3 chester chester 4096 Dec 16 21:55 custom\r\n",
      "-rw-rw-r-- 1 chester chester   40 Dec 16 21:55 events.out.tfevents.1671256551.RTX.21091.0\r\n",
      "-rw-rw-r-- 1 chester chester 1454 Dec 16 21:55 log.txt\r\n"
     ]
    }
   ],
   "source": [
    "!ls -l  /tmp/nvflare/simulate_job/app_site-1"
   ]
  },
  {
   "cell_type": "code",
   "execution_count": 2,
   "id": "421657f2",
   "metadata": {},
   "outputs": [
    {
     "name": "stdout",
     "output_type": "stream",
     "text": [
      "total 0\r\n"
     ]
    }
   ],
   "source": [
    "!ls -l  /tmp/nvflare/sklearn/model"
   ]
  },
  {
   "cell_type": "code",
   "execution_count": null,
   "id": "76e9148c",
   "metadata": {},
   "outputs": [],
   "source": []
  }
 ],
 "metadata": {
  "kernelspec": {
   "display_name": "Python 3 (ipykernel)",
   "language": "python",
   "name": "python3"
  },
  "language_info": {
   "codemirror_mode": {
    "name": "ipython",
    "version": 3
   },
   "file_extension": ".py",
   "mimetype": "text/x-python",
   "name": "python",
   "nbconvert_exporter": "python",
   "pygments_lexer": "ipython3",
   "version": "3.8.16"
  }
 },
 "nbformat": 4,
 "nbformat_minor": 5
}
