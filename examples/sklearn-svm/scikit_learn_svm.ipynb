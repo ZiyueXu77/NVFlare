{
 "cells": [
  {
   "cell_type": "markdown",
   "id": "32460217",
   "metadata": {},
   "source": [
    "# Scikit-Learn SVM with NVFLARE\n"
   ]
  },
  {
   "cell_type": "markdown",
   "id": "484dc228",
   "metadata": {},
   "source": [
    "## Prepare data"
   ]
  },
  {
   "cell_type": "markdown",
   "id": "4778adc0",
   "metadata": {},
   "source": [
    "In this section, we will download the data and split the data and save to the local disk"
   ]
  },
  {
   "cell_type": "markdown",
   "id": "e03e1229",
   "metadata": {},
   "source": [
    "### Download data"
   ]
  },
  {
   "cell_type": "code",
   "execution_count": 1,
   "id": "88ede61e",
   "metadata": {},
   "outputs": [],
   "source": [
    "from utils.prepare_data import download_data"
   ]
  },
  {
   "cell_type": "markdown",
   "id": "ec5fc328",
   "metadata": {},
   "source": [
    "The download data function will download one of the two datasets from Scikit-learn: Iris or Cancer\n",
    "* the file will be save to the output directory \n",
    "* the file format will be CSV format with comma separated\n",
    "* the file will be remove the header \n",
    "* default dataset is iris\n",
    "* filename = dataset name\n"
   ]
  },
  {
   "cell_type": "code",
   "execution_count": 2,
   "id": "f6e95bea",
   "metadata": {},
   "outputs": [],
   "source": [
    "output_dir=\"/tmp/nvflare/sklearn/data\"\n",
    "download_data(output_dir)"
   ]
  },
  {
   "cell_type": "markdown",
   "id": "da2b4371",
   "metadata": {},
   "source": [
    "Verify the file is downloaded\n"
   ]
  },
  {
   "cell_type": "code",
   "execution_count": 3,
   "id": "b116cdbd",
   "metadata": {},
   "outputs": [
    {
     "name": "stdout",
     "output_type": "stream",
     "text": [
      "iris.csv\r\n"
     ]
    }
   ],
   "source": [
    "!ls {output_dir}"
   ]
  },
  {
   "cell_type": "markdown",
   "id": "e707faf5",
   "metadata": {},
   "source": [
    "### Split Data\n",
    "* **Split Method**"
   ]
  },
  {
   "cell_type": "markdown",
   "id": "b4d1439e",
   "metadata": {},
   "source": [
    "\n",
    "Split the data into different datasets, one for each client. \n",
    "There are several split methods, we use test our algorithms in different scenarios. Here we just pick uniform split from the followns\n",
    "* Uniform \n",
    "* linear\n",
    "* Sqare\n",
    "* Exponential\n",
    "\n"
   ]
  },
  {
   "cell_type": "markdown",
   "id": "b3179444",
   "metadata": {},
   "source": [
    "* **data store method**"
   ]
  },
  {
   "cell_type": "markdown",
   "id": "c11134e2",
   "metadata": {},
   "source": [
    "There are two approaches to store the splited data \n",
    "* STORE DATA: \n",
    "\n",
    "similar to the real application, we split the data total into different directories (sites), and each client will ready one-site's data\n",
    "\n",
    "```\n",
    "   /tmp/nvflare/sklearn/data/site-1/iris.csv\n",
    "   /tmp/nvflare/sklearn/data/site-2/iris.csv\n",
    "   /tmp/nvflare/sklearn/data/valid/iris.csv\n",
    "```\n",
    "\n",
    "* STORE_INDEX: \n",
    "\n",
    "simulate the split, by assign data index range for each site, but the original file is not splited. The data loader is reading from the original file but only for the data within the index range\n",
    "  For example: the index assignment for the data split is captured in a json file\n",
    " ``` \n",
    "  {\n",
    "     \"data_path\" : \"/tmp/nvflare/sklearn/data/iris.csv\"\n",
    "     \"data_index\" : {\n",
    "         \"site-1\": {\"start\": 100, \"end\": 300},\n",
    "         \"site-2\": {\"start\": 301, \"end\": 600},\n",
    "     }\n",
    "  }\n",
    " ```"
   ]
  },
  {
   "cell_type": "markdown",
   "id": "15fa6c7b",
   "metadata": {},
   "source": [
    "Here we choose STORE_DATA approach"
   ]
  },
  {
   "cell_type": "code",
   "execution_count": 7,
   "id": "b9411999",
   "metadata": {},
   "outputs": [],
   "source": [
    "from utils.prepare_data_split import split_data, SplitMethod"
   ]
  },
  {
   "cell_type": "code",
   "execution_count": 8,
   "id": "8aad0909",
   "metadata": {},
   "outputs": [],
   "source": [
    "input_path = \"/tmp/nvflare/sklearn/data/iris.csv\"\n",
    "output_dir = \"/tmp/nvflare/sklearn/data\"\n",
    "site_num = 2\n",
    "valid_frac = 0.3\n",
    "split_method: SplitMethod = SplitMethod.UNIFORM"
   ]
  },
  {
   "cell_type": "code",
   "execution_count": 9,
   "id": "7a3b7386",
   "metadata": {},
   "outputs": [],
   "source": [
    "\n",
    "split_data(input_path, output_dir, site_num, valid_frac, split_method=split_method)"
   ]
  },
  {
   "cell_type": "code",
   "execution_count": 10,
   "id": "073c1180",
   "metadata": {},
   "outputs": [
    {
     "name": "stdout",
     "output_type": "stream",
     "text": [
      "total 20\r\n",
      "-rw-rw-r-- 1 chester chester  316 Dec 16 22:15 data_split.json\r\n",
      "-rw-rw-r-- 1 chester chester 3000 Dec 16 21:13 iris.csv\r\n",
      "drwxrwxr-x 2 chester chester 4096 Dec 16 21:16 site-1\r\n",
      "drwxrwxr-x 2 chester chester 4096 Dec 16 21:16 site-2\r\n",
      "drwxrwxr-x 2 chester chester 4096 Dec 16 21:16 valid\r\n"
     ]
    }
   ],
   "source": [
    "!ls -l {output_dir}"
   ]
  },
  {
   "cell_type": "code",
   "execution_count": 11,
   "id": "4f9b69d7",
   "metadata": {},
   "outputs": [
    {
     "name": "stdout",
     "output_type": "stream",
     "text": [
      "0.0,4.8,3.0,1.4,0.3\r\n",
      "0.0,5.1,3.8,1.6,0.2\r\n",
      "0.0,4.6,3.2,1.4,0.2\r\n",
      "0.0,5.3,3.7,1.5,0.2\r\n",
      "0.0,5.0,3.3,1.4,0.2\r\n",
      "1.0,7.0,3.2,4.7,1.4\r\n",
      "1.0,6.4,3.2,4.5,1.5\r\n",
      "1.0,6.9,3.1,4.9,1.5\r\n",
      "1.0,5.5,2.3,4.0,1.3\r\n",
      "1.0,6.5,2.8,4.6,1.5\r\n"
     ]
    }
   ],
   "source": [
    "! head -n 10 {output_dir}/site-1/iris.csv"
   ]
  },
  {
   "cell_type": "markdown",
   "id": "c6ef5742",
   "metadata": {},
   "source": [
    "## Config Jobs"
   ]
  },
  {
   "cell_type": "markdown",
   "id": "be15a238",
   "metadata": {},
   "source": [
    "ToDo "
   ]
  },
  {
   "cell_type": "markdown",
   "id": "ef4d982e",
   "metadata": {},
   "source": [
    "## Running Job"
   ]
  },
  {
   "cell_type": "markdown",
   "id": "9273451e",
   "metadata": {},
   "source": [
    "### FL Simulator"
   ]
  },
  {
   "cell_type": "code",
   "execution_count": 12,
   "id": "3a2c0da7",
   "metadata": {
    "scrolled": true
   },
   "outputs": [
    {
     "name": "stdout",
     "output_type": "stream",
     "text": [
      "2022-12-16 22:15:24,816 - SimulatorRunner - INFO - Create the Simulator Server.\n",
      "2022-12-16 22:15:24,865 - nvflare.fuel.hci.server.hci - INFO - Starting Admin Server localhost on Port 58905\n",
      "2022-12-16 22:15:24,867 - SimulatorServer - INFO - starting insecure server at localhost:57749\n",
      "2022-12-16 22:15:24,869 - SimulatorRunner - INFO - Deploy the Apps.\n",
      "2022-12-16 22:15:24,871 - SimulatorRunner - INFO - Create the simulate clients.\n",
      "2022-12-16 22:15:25,055 - ClientManager - INFO - Client: New client site-1@127.0.0.1 joined. Sent token: 14fe139d-bcf0-4b22-adbf-23d5353bf5f1.  Total clients: 1\n",
      "2022-12-16 22:15:25,055 - FederatedClient - INFO - Successfully registered client:site-1 for project simulator_server. Token:14fe139d-bcf0-4b22-adbf-23d5353bf5f1 SSID:\n",
      "2022-12-16 22:15:25,239 - ClientManager - INFO - Client: New client site-2@127.0.0.1 joined. Sent token: 3663a46a-9e69-4787-a03d-14fec5ddf369.  Total clients: 2\n",
      "2022-12-16 22:15:25,239 - FederatedClient - INFO - Successfully registered client:site-2 for project simulator_server. Token:3663a46a-9e69-4787-a03d-14fec5ddf369 SSID:\n",
      "2022-12-16 22:15:25,240 - SimulatorRunner - INFO - Set the client status ready.\n",
      "2022-12-16 22:15:25,240 - SimulatorRunner - INFO - Deploy and start the Server App.\n",
      "2022-12-16 22:15:26,050 - ServerRunner - INFO - [identity=simulator_server, run=simulate_job]: Server runner starting ...\n",
      "2022-12-16 22:15:26,051 - ServerRunner - INFO - [identity=simulator_server, run=simulate_job]: starting workflow scatter_and_gather (<class 'nvflare.app_common.workflows.scatter_and_gather.ScatterAndGather'>) ...\n",
      "2022-12-16 22:15:26,051 - ScatterAndGather - INFO - [identity=simulator_server, run=simulate_job]: Initializing ScatterAndGather workflow.\n",
      "2022-12-16 22:15:26,051 - JoblibModelParamPersistor - INFO - Initializing server model as None\n",
      "2022-12-16 22:15:26,051 - ServerRunner - ERROR - [identity=simulator_server, run=simulate_job]: Aborting current RUN due to FATAL_SYSTEM_ERROR received: Expected global weights to be of type `ModelLearnable` but received <class 'type'>\n",
      "2022-12-16 22:15:26,051 - ServerRunner - INFO - [identity=simulator_server, run=simulate_job]: asked to abort - triggered abort_signal to stop the RUN\n",
      "2022-12-16 22:15:26,051 - ServerRunner - INFO - [identity=simulator_server, run=simulate_job]: Workflow scatter_and_gather (<class 'nvflare.app_common.workflows.scatter_and_gather.ScatterAndGather'>) started\n",
      "2022-12-16 22:15:26,051 - ScatterAndGather - INFO - [identity=simulator_server, run=simulate_job, wf=scatter_and_gather]: Beginning ScatterAndGather training phase.\n",
      "2022-12-16 22:15:26,051 - ScatterAndGather - INFO - [identity=simulator_server, run=simulate_job, wf=scatter_and_gather]: Abort signal received. Exiting at round 0.\n",
      "2022-12-16 22:15:26,051 - ServerRunner - INFO - [identity=simulator_server, run=simulate_job, wf=scatter_and_gather]: Workflow: scatter_and_gather finalizing ...\n",
      "2022-12-16 22:15:26,242 - SimulatorClientRunner - INFO - Start the clients run simulation.\n",
      "2022-12-16 22:15:27,243 - SimulatorClientRunner - INFO - Simulate Run client: site-1\n",
      "2022-12-16 22:15:27,243 - SimulatorClientRunner - INFO - Simulate Run client: site-2\n",
      "E1216 22:15:27.248042865   22773 fork_posix.cc:76]           Other threads are currently calling into gRPC, skipping fork() handlers\n",
      "2022-12-16 22:15:28,553 - ServerRunner - INFO - [identity=simulator_server, run=simulate_job, wf=scatter_and_gather]: ABOUT_TO_END_RUN fired\n",
      "2022-12-16 22:15:28,554 - ServerRunner - INFO - [identity=simulator_server, run=simulate_job, wf=scatter_and_gather]: END_RUN fired\n",
      "2022-12-16 22:15:28,557 - ServerRunner - INFO - [identity=simulator_server, run=simulate_job, wf=scatter_and_gather]: Server runner finished.\n",
      "2022-12-16 22:15:29,052 - SimulatorServer - INFO - Server app stopped.\n",
      "\n",
      "\n",
      "2022-12-16 22:15:29,297 - SVMExecutor - INFO - [identity=site-2, run=simulate_job]: Client site-2 initialized with configs: \n",
      " Namespace(client_config='config/config_fed_client.json', client_name='site-2', clients=None, config_folder='config', env='config/environment.json', gpu=None, job_folder='/home/chester/projects/NVFlare/examples/sklearn-svm/job_configs/sklearn_svm_base', job_id='simulate_job', log_config=None, max_clients=100, n_clients=2, server_config='config/config_fed_server.json', set=[], threads=2, token='3663a46a-9e69-4787-a03d-14fec5ddf369', workspace='/tmp/nvflare/')\n",
      "output_dir= /tmp/nvflare/sklearn/model\n",
      "local_model_output_path= /tmp/nvflare/sklearn/model/model.joblib\n",
      "2022-12-16 22:15:29,300 - ClientRunner - INFO - [identity=site-2, run=simulate_job]: client runner started\n",
      "2022-12-16 22:15:29,300 - ClientTaskWorker - INFO - Initialize ClientRunner for client: site-2\n",
      "2022-12-16 22:15:29,325 - SVMExecutor - INFO - [identity=site-1, run=simulate_job]: Client site-1 initialized with configs: \n",
      " Namespace(client_config='config/config_fed_client.json', client_name='site-1', clients=None, config_folder='config', env='config/environment.json', gpu=None, job_folder='/home/chester/projects/NVFlare/examples/sklearn-svm/job_configs/sklearn_svm_base', job_id='simulate_job', log_config=None, max_clients=100, n_clients=2, server_config='config/config_fed_server.json', set=[], threads=2, token='14fe139d-bcf0-4b22-adbf-23d5353bf5f1', workspace='/tmp/nvflare/')\n",
      "output_dir= /tmp/nvflare/sklearn/model\n",
      "local_model_output_path= /tmp/nvflare/sklearn/model/model.joblib\n",
      "2022-12-16 22:15:29,328 - ClientRunner - INFO - [identity=site-1, run=simulate_job]: client runner started\n",
      "2022-12-16 22:15:29,328 - ClientTaskWorker - INFO - Initialize ClientRunner for client: site-1\n",
      "2022-12-16 22:15:29,477 - SimulatorServer - INFO - server has no current run - asked client to end the run\n",
      "2022-12-16 22:15:29,478 - SimulatorServer - INFO - GetTask: Return task: __end_run__ to client: site-1 (14fe139d-bcf0-4b22-adbf-23d5353bf5f1) \n",
      "2022-12-16 22:15:29,478 - SimulatorServer - INFO - server has no current run - asked client to end the run\n",
      "2022-12-16 22:15:29,478 - SimulatorServer - INFO - GetTask: Return task: __end_run__ to client: site-2 (3663a46a-9e69-4787-a03d-14fec5ddf369) \n",
      "2022-12-16 22:15:29,478 - Communicator - INFO - Received from simulator_server server  (348 Bytes). getTask time: 0.14904093742370605 seconds\n",
      "2022-12-16 22:15:29,478 - Communicator - INFO - Received from simulator_server server  (348 Bytes). getTask time: 0.17709970474243164 seconds\n",
      "2022-12-16 22:15:29,479 - FederatedClient - INFO - pull_task completed. Task name:__end_run__ Status:True \n",
      "2022-12-16 22:15:29,479 - FederatedClient - INFO - pull_task completed. Task name:__end_run__ Status:True \n",
      "2022-12-16 22:15:29,479 - ClientRunner - INFO - [identity=site-1, run=simulate_job, peer=simulator_server, peer_run=simulate_job]: server asked to end the run\n",
      "2022-12-16 22:15:29,479 - ClientTaskWorker - INFO - Finished one task run for client: site-1\n",
      "2022-12-16 22:15:29,479 - ClientRunner - INFO - [identity=site-2, run=simulate_job, peer=simulator_server, peer_run=simulate_job]: server asked to end the run\n",
      "2022-12-16 22:15:29,479 - ClientTaskWorker - INFO - End the Simulator run.\n",
      "2022-12-16 22:15:29,479 - ClientTaskWorker - INFO - Finished one task run for client: site-2\n",
      "2022-12-16 22:15:29,479 - ClientTaskWorker - INFO - End the Simulator run.\n",
      "2022-12-16 22:15:29,479 - ClientTaskWorker - INFO - Clean up ClientRunner for : site-1 \n",
      "2022-12-16 22:15:29,479 - ClientTaskWorker - INFO - Clean up ClientRunner for : site-2 \n",
      "2022-12-16 22:15:29,479 - FederatedClient - INFO - Shutting down client: site-1\n",
      "2022-12-16 22:15:29,480 - FederatedClient - INFO - Shutting down client: site-2\n",
      "2022-12-16 22:15:29,480 - SimulatorServer - INFO - shutting down server\n",
      "2022-12-16 22:15:29,480 - SimulatorServer - INFO - canceling sync locks\n",
      "2022-12-16 22:15:29,480 - SimulatorServer - INFO - server off\n"
     ]
    }
   ],
   "source": [
    "! nvflare simulator -w /tmp/nvflare/ -n 2 -t 2 job_configs/sklearn_svm_base"
   ]
  },
  {
   "cell_type": "code",
   "execution_count": 10,
   "id": "b3a62004",
   "metadata": {},
   "outputs": [
    {
     "name": "stdout",
     "output_type": "stream",
     "text": [
      "total 16\r\n",
      "-rw-rw-r-- 1 chester chester    0 Dec 16 21:55 audit.log\r\n",
      "drwxrwxr-x 2 chester chester 4096 Dec 16 21:55 config\r\n",
      "drwxrwxr-x 3 chester chester 4096 Dec 16 21:55 custom\r\n",
      "-rw-rw-r-- 1 chester chester   40 Dec 16 21:55 events.out.tfevents.1671256551.RTX.21091.0\r\n",
      "-rw-rw-r-- 1 chester chester 1454 Dec 16 21:55 log.txt\r\n"
     ]
    }
   ],
   "source": [
    "!ls -l  /tmp/nvflare/simulate_job/app_site-1"
   ]
  },
  {
   "cell_type": "code",
   "execution_count": 2,
   "id": "421657f2",
   "metadata": {},
   "outputs": [
    {
     "name": "stdout",
     "output_type": "stream",
     "text": [
      "total 0\r\n"
     ]
    }
   ],
   "source": [
    "!ls -l  /tmp/nvflare/sklearn/model"
   ]
  },
  {
   "cell_type": "code",
   "execution_count": null,
   "id": "76e9148c",
   "metadata": {},
   "outputs": [],
   "source": []
  }
 ],
 "metadata": {
  "kernelspec": {
   "display_name": "Python 3 (ipykernel)",
   "language": "python",
   "name": "python3"
  },
  "language_info": {
   "codemirror_mode": {
    "name": "ipython",
    "version": 3
   },
   "file_extension": ".py",
   "mimetype": "text/x-python",
   "name": "python",
   "nbconvert_exporter": "python",
   "pygments_lexer": "ipython3",
   "version": "3.8.16"
  }
 },
 "nbformat": 4,
 "nbformat_minor": 5
}
