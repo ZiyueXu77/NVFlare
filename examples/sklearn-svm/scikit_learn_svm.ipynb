{
 "cells": [
  {
   "cell_type": "markdown",
   "id": "32460217",
   "metadata": {},
   "source": [
    "# Scikit-Learn SVM with NVFLARE\n"
   ]
  },
  {
   "cell_type": "markdown",
   "id": "484dc228",
   "metadata": {},
   "source": [
    "## Prepare data"
   ]
  },
  {
   "cell_type": "markdown",
   "id": "4778adc0",
   "metadata": {},
   "source": [
    "In this section, we will download the data and split the data and save to the local disk"
   ]
  },
  {
   "cell_type": "markdown",
   "id": "e03e1229",
   "metadata": {},
   "source": [
    "### Download data"
   ]
  },
  {
   "cell_type": "code",
   "execution_count": 1,
   "id": "88ede61e",
   "metadata": {},
   "outputs": [],
   "source": [
    "from utils.prepare_data import download_data"
   ]
  },
  {
   "cell_type": "markdown",
   "id": "ec5fc328",
   "metadata": {},
   "source": [
    "The download data function will download one of the two datasets from Scikit-learn: Iris or Cancer\n",
    "* the file will be save to the output directory \n",
    "* the file format will be CSV format with comma separated\n",
    "* the file will be remove the header \n",
    "* default dataset is iris\n",
    "* filename = dataset name\n"
   ]
  },
  {
   "cell_type": "code",
   "execution_count": 2,
   "id": "f6e95bea",
   "metadata": {},
   "outputs": [],
   "source": [
    "output_dir=\"/tmp/nvflare/sklearn/data\"\n",
    "download_data(output_dir)"
   ]
  },
  {
   "cell_type": "markdown",
   "id": "da2b4371",
   "metadata": {},
   "source": [
    "Verify the file is downloaded\n"
   ]
  },
  {
   "cell_type": "code",
   "execution_count": 3,
   "id": "b116cdbd",
   "metadata": {},
   "outputs": [
    {
     "name": "stdout",
     "output_type": "stream",
     "text": [
      "iris.csv\r\n"
     ]
    }
   ],
   "source": [
    "!ls {output_dir}"
   ]
  },
  {
   "cell_type": "markdown",
   "id": "e707faf5",
   "metadata": {},
   "source": [
    "#### Split Data\n",
    "* **Split Method**"
   ]
  },
  {
   "cell_type": "markdown",
   "id": "b4d1439e",
   "metadata": {},
   "source": [
    "\n",
    "Split the data into different datasets, one for each client. \n",
    "There are several split methods, we use test our algorithms in different scenarios. Here we just pick uniform split from the followns\n",
    "* Uniform \n",
    "* linear\n",
    "* Sqare\n",
    "* Exponential\n",
    "\n"
   ]
  },
  {
   "cell_type": "markdown",
   "id": "b3179444",
   "metadata": {},
   "source": [
    "* **data store method**"
   ]
  },
  {
   "cell_type": "markdown",
   "id": "c11134e2",
   "metadata": {},
   "source": [
    "There are two approaches to store the splited data \n",
    "* STORE DATA: \n",
    "\n",
    "similar to the real application, we split the data total into different directories (sites), and each client will ready one-site's data\n",
    "\n",
    "* STORE_INDEX: \n",
    "\n",
    "simulate the split, by assign data index range for each site, but the original file is not splited. The data loader is reading from the original file but only for the data within the index range\n",
    "  For example: the index assignment for the data split is captured in a json file\n",
    " ``` \n",
    "  {\n",
    "     \"data_path\" : \"/tmp/nvflare/sklearn/data/iris.csv\"\n",
    "     \"data_index\" : {\n",
    "         \"site-1\": {\"start\": 100, \"end\": 300},\n",
    "         \"site-2\": {\"start\": 301, \"end\": 600},\n",
    "     }\n",
    "  }\n",
    " ```"
   ]
  },
  {
   "cell_type": "markdown",
   "id": "15fa6c7b",
   "metadata": {},
   "source": [
    "Here we choose STORE_DATA approach"
   ]
  },
  {
   "cell_type": "code",
   "execution_count": 4,
   "id": "b9411999",
   "metadata": {},
   "outputs": [],
   "source": [
    "from utils.prepare_data_split import split_data, SplitMethod, StoreMethod, get_file_line_count"
   ]
  },
  {
   "cell_type": "code",
   "execution_count": 5,
   "id": "8aad0909",
   "metadata": {},
   "outputs": [],
   "source": [
    "input_path = f\"{output_dir}/iris.csv\"\n",
    "output_dir = \"/tmp/nvflare/sklearn/data\"\n",
    "site_num = 3\n",
    "valid_frac = 0.3\n",
    "split_method: SplitMethod = SplitMethod.UNIFORM\n",
    "store_method: StoreMethod = StoreMethod.STORE_DATA"
   ]
  },
  {
   "cell_type": "code",
   "execution_count": 9,
   "id": "7a3b7386",
   "metadata": {},
   "outputs": [
    {
     "name": "stdout",
     "output_type": "stream",
     "text": [
      "start type= <class 'float'>\n",
      "end type= <class 'float'>\n",
      "start type= <class 'float'>\n",
      "end type= <class 'float'>\n",
      "start type= <class 'float'>\n",
      "end type= <class 'float'>\n"
     ]
    },
    {
     "ename": "TypeError",
     "evalue": "'float' object cannot be interpreted as an integer",
     "output_type": "error",
     "traceback": [
      "\u001b[0;31m---------------------------------------------------------------------------\u001b[0m",
      "\u001b[0;31mTypeError\u001b[0m                                 Traceback (most recent call last)",
      "Cell \u001b[0;32mIn [9], line 1\u001b[0m\n\u001b[0;32m----> 1\u001b[0m \u001b[43msplit_data\u001b[49m\u001b[43m(\u001b[49m\u001b[43minput_path\u001b[49m\u001b[43m,\u001b[49m\u001b[43m \u001b[49m\u001b[43moutput_dir\u001b[49m\u001b[43m,\u001b[49m\u001b[43m \u001b[49m\u001b[43msite_num\u001b[49m\u001b[43m,\u001b[49m\u001b[43m \u001b[49m\u001b[43mvalid_frac\u001b[49m\u001b[43m,\u001b[49m\u001b[43m \u001b[49m\u001b[43msplit_method\u001b[49m\u001b[38;5;241;43m=\u001b[39;49m\u001b[43msplit_method\u001b[49m\u001b[43m,\u001b[49m\u001b[43m \u001b[49m\u001b[43mstore_method\u001b[49m\u001b[38;5;241;43m=\u001b[39;49m\u001b[43mstore_method\u001b[49m\u001b[43m)\u001b[49m\n",
      "File \u001b[0;32m~/projects/NVFlare/examples/sklearn-svm/utils/prepare_data_split.py:209\u001b[0m, in \u001b[0;36msplit_data\u001b[0;34m(data_path, output_dir, site_num, valid_frac, site_name_prefix, split_method, store_method)\u001b[0m\n\u001b[1;32m    203\u001b[0m size_total \u001b[38;5;241m=\u001b[39m get_file_line_count(data_path)\n\u001b[1;32m    204\u001b[0m site_indices \u001b[38;5;241m=\u001b[39m assign_data_index_to_sites(size_total,\n\u001b[1;32m    205\u001b[0m                                           valid_frac,\n\u001b[1;32m    206\u001b[0m                                           site_num,\n\u001b[1;32m    207\u001b[0m                                           site_name_prefix,\n\u001b[1;32m    208\u001b[0m                                           split_method)\n\u001b[0;32m--> 209\u001b[0m \u001b[43msave_split_data\u001b[49m\u001b[43m(\u001b[49m\u001b[43msite_indices\u001b[49m\u001b[38;5;241;43m=\u001b[39;49m\u001b[43msite_indices\u001b[49m\u001b[43m,\u001b[49m\n\u001b[1;32m    210\u001b[0m \u001b[43m                \u001b[49m\u001b[43minput_path\u001b[49m\u001b[38;5;241;43m=\u001b[39;49m\u001b[43mdata_path\u001b[49m\u001b[43m,\u001b[49m\n\u001b[1;32m    211\u001b[0m \u001b[43m                \u001b[49m\u001b[43moutput_dir\u001b[49m\u001b[38;5;241;43m=\u001b[39;49m\u001b[43moutput_dir\u001b[49m\u001b[43m,\u001b[49m\n\u001b[1;32m    212\u001b[0m \u001b[43m                \u001b[49m\u001b[43mstore_method\u001b[49m\u001b[38;5;241;43m=\u001b[39;49m\u001b[43mstore_method\u001b[49m\u001b[43m,\u001b[49m\n\u001b[1;32m    213\u001b[0m \u001b[43m                \u001b[49m\u001b[43moutput_file_format\u001b[49m\u001b[38;5;241;43m=\u001b[39;49m\u001b[38;5;124;43m\"\u001b[39;49m\u001b[38;5;124;43mcsv\u001b[39;49m\u001b[38;5;124;43m\"\u001b[39;49m\n\u001b[1;32m    214\u001b[0m \u001b[43m                \u001b[49m\u001b[43m)\u001b[49m\n",
      "File \u001b[0;32m~/projects/NVFlare/examples/sklearn-svm/utils/prepare_data_split.py:188\u001b[0m, in \u001b[0;36msave_split_data\u001b[0;34m(site_indices, input_path, output_dir, store_method, output_file_format)\u001b[0m\n\u001b[1;32m    186\u001b[0m index_keys \u001b[38;5;241m=\u001b[39m [x \u001b[38;5;28;01mfor\u001b[39;00m x \u001b[38;5;129;01min\u001b[39;00m site_indices]\n\u001b[1;32m    187\u001b[0m \u001b[38;5;28;01mif\u001b[39;00m store_method \u001b[38;5;241m==\u001b[39m StoreMethod\u001b[38;5;241m.\u001b[39mSTORE_DATA:\n\u001b[0;32m--> 188\u001b[0m     \u001b[43msave_sites_data\u001b[49m\u001b[43m(\u001b[49m\u001b[43minput_path\u001b[49m\u001b[43m,\u001b[49m\u001b[43m \u001b[49m\u001b[43moutput_dir\u001b[49m\u001b[43m,\u001b[49m\u001b[43m \u001b[49m\u001b[43mindex_keys\u001b[49m\u001b[43m,\u001b[49m\u001b[43m \u001b[49m\u001b[43msite_indices\u001b[49m\u001b[43m,\u001b[49m\u001b[43m \u001b[49m\u001b[43moutput_file_format\u001b[49m\u001b[43m)\u001b[49m\n\u001b[1;32m    189\u001b[0m \u001b[38;5;28;01melif\u001b[39;00m store_method \u001b[38;5;241m==\u001b[39m StoreMethod\u001b[38;5;241m.\u001b[39mSTORE_INDEX:\n\u001b[1;32m    190\u001b[0m     save_indices(input_path, site_indices, output_dir)\n",
      "File \u001b[0;32m~/projects/NVFlare/examples/sklearn-svm/utils/prepare_data_split.py:170\u001b[0m, in \u001b[0;36msave_sites_data\u001b[0;34m(input_path, output_dir, sites, site_indices, output_file_format)\u001b[0m\n\u001b[1;32m    168\u001b[0m         di \u001b[38;5;241m=\u001b[39m site_indices[site]\n\u001b[1;32m    169\u001b[0m         output_file \u001b[38;5;241m=\u001b[39m os\u001b[38;5;241m.\u001b[39mpath\u001b[38;5;241m.\u001b[39mjoin(output_dir, \u001b[38;5;124mf\u001b[39m\u001b[38;5;124m\"\u001b[39m\u001b[38;5;124mdata_\u001b[39m\u001b[38;5;132;01m{\u001b[39;00msite\u001b[38;5;132;01m}\u001b[39;00m\u001b[38;5;124m.csv\u001b[39m\u001b[38;5;124m\"\u001b[39m)\n\u001b[0;32m--> 170\u001b[0m         site_range \u001b[38;5;241m=\u001b[39m \u001b[38;5;28;43mrange\u001b[39;49m\u001b[43m(\u001b[49m\u001b[43mdi\u001b[49m\u001b[43m[\u001b[49m\u001b[38;5;124;43m\"\u001b[39;49m\u001b[38;5;124;43mstart\u001b[39;49m\u001b[38;5;124;43m\"\u001b[39;49m\u001b[43m]\u001b[49m\u001b[43m,\u001b[49m\u001b[43m \u001b[49m\u001b[43mdi\u001b[49m\u001b[43m[\u001b[49m\u001b[38;5;124;43m\"\u001b[39;49m\u001b[38;5;124;43mend\u001b[39;49m\u001b[38;5;124;43m\"\u001b[39;49m\u001b[43m]\u001b[49m\u001b[43m)\u001b[49m\n\u001b[1;32m    171\u001b[0m         save_lines(fp, site_range, output_file)\n\u001b[1;32m    172\u001b[0m \u001b[38;5;28;01melse\u001b[39;00m:\n",
      "\u001b[0;31mTypeError\u001b[0m: 'float' object cannot be interpreted as an integer"
     ]
    }
   ],
   "source": [
    "\n",
    "split_data(input_path, output_dir, site_num, valid_frac, split_method=split_method, store_method=store_method)"
   ]
  },
  {
   "cell_type": "code",
   "execution_count": 20,
   "id": "073c1180",
   "metadata": {},
   "outputs": [
    {
     "data": {
      "text/plain": [
       "150"
      ]
     },
     "execution_count": 20,
     "metadata": {},
     "output_type": "execute_result"
    }
   ],
   "source": [
    "get_file_line_count(input_path)"
   ]
  },
  {
   "cell_type": "code",
   "execution_count": null,
   "id": "4f9b69d7",
   "metadata": {},
   "outputs": [],
   "source": []
  }
 ],
 "metadata": {
  "kernelspec": {
   "display_name": "Python 3 (ipykernel)",
   "language": "python",
   "name": "python3"
  },
  "language_info": {
   "codemirror_mode": {
    "name": "ipython",
    "version": 3
   },
   "file_extension": ".py",
   "mimetype": "text/x-python",
   "name": "python",
   "nbconvert_exporter": "python",
   "pygments_lexer": "ipython3",
   "version": "3.8.16"
  }
 },
 "nbformat": 4,
 "nbformat_minor": 5
}
