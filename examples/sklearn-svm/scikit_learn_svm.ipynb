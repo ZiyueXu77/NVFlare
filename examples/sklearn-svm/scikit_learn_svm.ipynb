{
 "cells": [
  {
   "cell_type": "markdown",
   "id": "32460217",
   "metadata": {},
   "source": [
    "# Scikit-Learn SVM with NVFLARE\n"
   ]
  },
  {
   "cell_type": "markdown",
   "id": "484dc228",
   "metadata": {},
   "source": [
    "## Prepare data"
   ]
  },
  {
   "cell_type": "markdown",
   "id": "4778adc0",
   "metadata": {},
   "source": [
    "In this section, we will download the data and split the data and save to the local disk"
   ]
  },
  {
   "cell_type": "markdown",
   "id": "e03e1229",
   "metadata": {},
   "source": [
    "### Download data"
   ]
  },
  {
   "cell_type": "code",
   "execution_count": 6,
   "id": "88ede61e",
   "metadata": {},
   "outputs": [],
   "source": [
    "from utils.prepare_data import download_data"
   ]
  },
  {
   "cell_type": "markdown",
   "id": "ec5fc328",
   "metadata": {},
   "source": [
    "The download data function will download one of the two datasets from Scikit-learn: Iris or Cancer\n",
    "* the file will be save to the output directory \n",
    "* the file format will be CSV format with comma separated\n",
    "* the file will be remove the header \n",
    "* default dataset is iris\n",
    "* filename = dataset name\n"
   ]
  },
  {
   "cell_type": "code",
   "execution_count": 7,
   "id": "f6e95bea",
   "metadata": {},
   "outputs": [
    {
     "name": "stdout",
     "output_type": "stream",
     "text": [
      "/tmp/nvflare/sklean/data/iris.csv\n"
     ]
    }
   ],
   "source": [
    "download_data(output_dir=\"/tmp/nvflare/sklean/data\")"
   ]
  },
  {
   "cell_type": "markdown",
   "id": "da2b4371",
   "metadata": {},
   "source": [
    "Verify the file is downloaded\n"
   ]
  },
  {
   "cell_type": "code",
   "execution_count": 8,
   "id": "b116cdbd",
   "metadata": {},
   "outputs": [
    {
     "name": "stdout",
     "output_type": "stream",
     "text": [
      "iris.csv\r\n"
     ]
    }
   ],
   "source": [
    "!ls {\"/tmp/nvflare/sklean/data\"}"
   ]
  },
  {
   "cell_type": "markdown",
   "id": "e707faf5",
   "metadata": {},
   "source": [
    "#### Split Data\n",
    "* **Split Method**"
   ]
  },
  {
   "cell_type": "markdown",
   "id": "b4d1439e",
   "metadata": {},
   "source": [
    "\n",
    "Split the data into different datasets, one for each client. \n",
    "There are several split methods, we use test our algorithms in different scenarios. Here we just pick uniform split from the followns\n",
    "* Uniform \n",
    "* linear\n",
    "* Sqare\n",
    "* Exponential\n",
    "\n"
   ]
  },
  {
   "cell_type": "markdown",
   "id": "b3179444",
   "metadata": {},
   "source": [
    "* **data store method**"
   ]
  },
  {
   "cell_type": "markdown",
   "id": "c11134e2",
   "metadata": {},
   "source": [
    "There are two approaches to store the splited data \n",
    "* STORE DATA: \n",
    "\n",
    "similar to the real application, we split the data total into different directories (sites), and each client will ready one-site's data\n",
    "\n",
    "* STORE_INDEX: \n",
    "\n",
    "simulate the split, by assign data index range for each site, but the original file is not splited. The data loader is reading from the original file but only for the data within the index range\n",
    "  For example: the index assignment for the data split is captured in a json file\n",
    " ``` \n",
    "  {\n",
    "     \"data_path\" : \"/tmp/nvflare/sklearn/data/iris.csv\"\n",
    "     \"data_index\" : {\n",
    "         \"site-1\": {\"start\": 100, \"end\": 300},\n",
    "         \"site-2\": {\"start\": 301, \"end\": 600},\n",
    "     }\n",
    "  }\n",
    " ```"
   ]
  },
  {
   "cell_type": "markdown",
   "id": "15fa6c7b",
   "metadata": {},
   "source": [
    "Here we choose STORE_DATA approach"
   ]
  },
  {
   "cell_type": "code",
   "execution_count": 13,
   "id": "b9411999",
   "metadata": {},
   "outputs": [],
   "source": [
    "from utils.prepare_data_split import split_num_proportion"
   ]
  },
  {
   "cell_type": "code",
   "execution_count": null,
   "id": "8aad0909",
   "metadata": {},
   "outputs": [],
   "source": []
  }
 ],
 "metadata": {
  "kernelspec": {
   "display_name": "Python 3 (ipykernel)",
   "language": "python",
   "name": "python3"
  },
  "language_info": {
   "codemirror_mode": {
    "name": "ipython",
    "version": 3
   },
   "file_extension": ".py",
   "mimetype": "text/x-python",
   "name": "python",
   "nbconvert_exporter": "python",
   "pygments_lexer": "ipython3",
   "version": "3.8.10"
  }
 },
 "nbformat": 4,
 "nbformat_minor": 5
}
